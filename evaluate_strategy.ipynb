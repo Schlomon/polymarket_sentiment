{
 "cells": [
  {
   "cell_type": "code",
   "execution_count": 20,
   "id": "61bbffb0",
   "metadata": {},
   "outputs": [],
   "source": [
    "# trading strategy: takes in the current position and returns the next position\n",
    "def simple_sentiment_strategy(df, current_position):\n",
    "    average_sentiment = df[\"sentiment\"][-7:-5].mean()\n",
    "    if average_sentiment < 0.5:\n",
    "        return -100\n",
    "    elif average_sentiment > 0.5:\n",
    "        return 100\n",
    "    return 0\n"
   ]
  },
  {
   "cell_type": "code",
   "execution_count": 21,
   "id": "23e0ce35",
   "metadata": {},
   "outputs": [
    {
     "name": "stdout",
     "output_type": "stream",
     "text": [
      "Final bank roll: 981.5\n",
      "Change: -1.85%\n"
     ]
    }
   ],
   "source": [
    "import pandas as pd\n",
    "\n",
    "market_prices = pd.read_csv('data/russia_ukraine_ceasfire_2025_polymarket_with_sentiment.csv')\n",
    "\n",
    "bank_roll = 1000\n",
    "current_position = 0\n",
    "for i in range(1, len(market_prices)):\n",
    "    next_pos = simple_sentiment_strategy(market_prices.iloc[:i], current_position)\n",
    "    bank_roll -= (next_pos - current_position) * market_prices.loc[i, 'price']\n",
    "    current_position = next_pos\n",
    "\n",
    "bank_roll += current_position * market_prices.loc[i, 'price']\n",
    "print(\"Final bank roll:\", bank_roll)\n",
    "print(f\"Change: {((bank_roll - 1000) / 1000) * 100:.2f}%\")"
   ]
  }
 ],
 "metadata": {
  "kernelspec": {
   "display_name": ".venv",
   "language": "python",
   "name": "python3"
  },
  "language_info": {
   "codemirror_mode": {
    "name": "ipython",
    "version": 3
   },
   "file_extension": ".py",
   "mimetype": "text/x-python",
   "name": "python",
   "nbconvert_exporter": "python",
   "pygments_lexer": "ipython3",
   "version": "3.13.5"
  }
 },
 "nbformat": 4,
 "nbformat_minor": 5
}
